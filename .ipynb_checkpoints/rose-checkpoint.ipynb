{
 "cells": [
  {
   "cell_type": "code",
   "execution_count": 3,
   "metadata": {},
   "outputs": [],
   "source": [
    "import numpy as np\n",
    "from modules import bayesian\n",
    "from modules import cubicharmonics\n",
    "import matplotlib.pyplot as plt\n",
    "import copy"
   ]
  },
  {
   "cell_type": "code",
   "execution_count": 6,
   "metadata": {},
   "outputs": [
    {
     "name": "stdout",
     "output_type": "stream",
     "text": [
      "[1. 0. 0.] [0. 1. 0.] [0. 0. 1.]\n"
     ]
    }
   ],
   "source": [
    "#Carico i dati in data e li ordino in sdata e grid\n",
    "\n",
    "data=np.transpose(np.loadtxt('/scratch/endrigo/spce/dump05fs/nlttkcepstral.out'))\n",
    "\n",
    "sdata, grid = bayesian.generatesorteddata(data, 100)"
   ]
  },
  {
   "cell_type": "code",
   "execution_count": 8,
   "metadata": {},
   "outputs": [
    {
     "name": "stdout",
     "output_type": "stream",
     "text": [
      "numero di elementi:  99\n",
      "numero cicli teornicamente necessari 14701\n",
      "numero cicli compiuti 66\n",
      "numero di elementi non equivalenti per simmetria cubica:  33\n"
     ]
    }
   ],
   "source": [
    "#Medio i dati su tutti i punti equivalenti per simmetria cubica e \n",
    "#ritorno la lista dei nuovi dati 'simmetrizzati' in gplot e sd\n",
    "C=bayesian.cubicarray(list(grid), True)\n",
    "dic, dics=bayesian.datadicG(data[1], data[2],cubicharmonics.Gvecgenerateall(100)[1:])\n",
    "gplot, dataplot, datasigmaplot=bayesian.datiplot(C, dic, dics)\n",
    "sd=np.array([dataplot, datasigmaplot])"
   ]
  },
  {
   "cell_type": "code",
   "execution_count": 9,
   "metadata": {},
   "outputs": [],
   "source": [
    "rosa=[]\n",
    "for i in range(len(C)):\n",
    "    rosai=[]\n",
    "    for j in range(len(C[i])):\n",
    "        rosai.append([C[i][j], dic[tuple(C[i][j])], dics[tuple(C[i][j])]])\n",
    "    rosa.append(rosai)\n",
    "        "
   ]
  },
  {
   "cell_type": "code",
   "execution_count": 14,
   "metadata": {},
   "outputs": [
    {
     "data": {
      "text/plain": [
       "[[array([1., 2., 0.]), 0.4776939216667559, 0.03206397668602474],\n",
       " [array([0., 1., 2.]), 0.49056559802217775, 0.034343263857410135],\n",
       " [array([0., 2., 1.]), 0.5422916007444972, 0.03774086779953053],\n",
       " [array([1., 0., 2.]), 0.487841093816993, 0.035085370055772745],\n",
       " [array([2., 0., 1.]), 0.4514930509686437, 0.03468202434518838],\n",
       " [array([2., 1., 0.]), 0.5147235832709671, 0.036296940817980364]]"
      ]
     },
     "execution_count": 14,
     "metadata": {},
     "output_type": "execute_result"
    }
   ],
   "source": [
    "rosa[4]"
   ]
  },
  {
   "cell_type": "code",
   "execution_count": null,
   "metadata": {},
   "outputs": [],
   "source": []
  }
 ],
 "metadata": {
  "kernelspec": {
   "display_name": "Python 3",
   "language": "python",
   "name": "python3"
  },
  "language_info": {
   "codemirror_mode": {
    "name": "ipython",
    "version": 3
   },
   "file_extension": ".py",
   "mimetype": "text/x-python",
   "name": "python",
   "nbconvert_exporter": "python",
   "pygments_lexer": "ipython3",
   "version": "3.8.5"
  }
 },
 "nbformat": 4,
 "nbformat_minor": 5
}
