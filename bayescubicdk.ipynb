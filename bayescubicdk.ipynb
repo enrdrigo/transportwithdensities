{
 "cells": [
  {
   "cell_type": "code",
   "execution_count": 1,
   "id": "b6d1cc29",
   "metadata": {},
   "outputs": [],
   "source": [
    "import numpy as np\n",
    "from modules import bayesian\n",
    "from modules import cubicharmonics\n",
    "import matplotlib.pyplot as plt\n",
    "import copy"
   ]
  },
  {
   "cell_type": "code",
   "execution_count": 2,
   "id": "98f0de22",
   "metadata": {},
   "outputs": [
    {
     "name": "stdout",
     "output_type": "stream",
     "text": [
      "[0. 1. 0.] [0. 0. 1.] [1. 0. 0.]\n"
     ]
    }
   ],
   "source": [
    "#Carico i dati in data e li ordino in sdata e grid\n",
    "\n",
    "data=np.transpose(np.loadtxt('../nlttk.out'))\n",
    "\n",
    "sdata, grid = bayesianL.generatesorteddata(data, 500)"
   ]
  },
  {
   "cell_type": "code",
   "execution_count": 3,
   "id": "43e69efd",
   "metadata": {},
   "outputs": [
    {
     "name": "stdout",
     "output_type": "stream",
     "text": [
      "numero di elementi:  499\n",
      "numero cicli teornicamente necessari 373501\n",
      "numero cicli compiuti 381\n",
      "numero di elementi non equivalenti per simmetria cubica:  118\n"
     ]
    }
   ],
   "source": [
    "#Medio i dati su tutti i punti equivalenti per simmetria cubica e \n",
    "#ritorno la lista dei nuovi dati 'simmetrizzati' in gplot e sd\n",
    "C=bayesianL.cubicarray(list(grid), True)\n",
    "dic, dics=bayesianL.datadicG(data[1], data[2],cubicharmonics.Gvecgenerateall(500)[1:])\n",
    "gplot, dataplot, datasigmaplot=bayesianL.datiplot(C, dic, dics)\n",
    "sd=np.array([dataplot, datasigmaplot])"
   ]
  },
  {
   "cell_type": "code",
   "execution_count": 4,
   "id": "6e3d9226",
   "metadata": {},
   "outputs": [
    {
     "name": "stderr",
     "output_type": "stream",
     "text": [
      "WARNING:root:HO IMPOSTATO A MANO CHE 2\\PI/L = 0.13484487571168569\n"
     ]
    },
    {
     "name": "stdout",
     "output_type": "stream",
     "text": [
      "parametri ottimali [ 6.80465262e-01 -1.98571732e+01  2.15639742e+01  7.24953530e+01\n",
      " -2.14242198e+01 -1.49534630e+02  1.57483485e+01  2.10096341e+01\n",
      " -4.38186467e+01  6.39491087e+01  4.10729402e+00  5.95657829e+00\n",
      " -3.08903441e+01  1.02921827e+01  2.22573257e+01  5.54342661e+00\n",
      " -2.72232622e+01 -5.07729433e+00 -1.14966359e+01  1.14662416e+01\n",
      " -1.89526653e+01  1.21705175e+01  1.19811595e+01  2.08536106e+01\n",
      " -3.79835304e-01 -1.47535791e+01 -1.09647754e+01 -2.94316926e+00\n",
      "  4.78601090e+00  3.54650241e+00  1.10816548e-01]\n",
      "numero di armoniche cubiche 19\n",
      "valore a kmin inferito 0.594961902152483 bias 0.6804652618135889 dato a kmin 0.7147155658198961\n",
      "determinante matrice delle armoniche cubiche ridotte: 2.6958890813168932e+29\n"
     ]
    }
   ],
   "source": [
    "#Calcolo il fit bayesiano con glot e sd come test\n",
    "mN, SN, y_infer, sy_infer=\\\n",
    "bayesianL.bayesianpol(gplot, sd, 12, 50, 0.001, gplot, ifprint= True, ifwarning= True)"
   ]
  },
  {
   "cell_type": "code",
   "execution_count": 5,
   "id": "29958e29",
   "metadata": {
    "scrolled": true
   },
   "outputs": [
    {
     "name": "stdout",
     "output_type": "stream",
     "text": [
      "parametri ottimali [  0.81287433 -10.071352    10.95360412  14.34138857   0.04189789\n",
      " -27.39076705   9.87181039 -15.52964289 -16.37923587 -15.34040183\n",
      "  14.28701991  21.68058864  10.24106696  -3.3338389   -4.35918373\n",
      "  -2.25407413]\n",
      "numero di armoniche cubiche 8\n",
      "valore a kmin inferito 0.663342980410345 bias 0.8128743341522942 dato a kmin 0.7147155658198961\n",
      "determinante matrice delle armoniche cubiche ridotte: 4.855219110416932e+24\n",
      "grado ottimale 14 grado massimo tentato 28\n"
     ]
    }
   ],
   "source": [
    "#Calcolo il best fit su gplot e sd con 30 dati\n",
    "N=20\n",
    "mN, SN, y_infer, sy_infer, spar, log_evidence_vP=\\\n",
    "bayesianL.bestfit(gplot, sd, N, gplot, ifprintbestfit= False, ifprintfinal= True)"
   ]
  },
  {
   "cell_type": "code",
   "execution_count": 6,
   "id": "d95e4d7f",
   "metadata": {},
   "outputs": [
    {
     "data": {
      "application/vnd.jupyter.widget-view+json": {
       "model_id": "9e6216aac546411bad23a2904190d556",
       "version_major": 2,
       "version_minor": 0
      },
      "text/plain": [
       "Canvas(toolbar=Toolbar(toolitems=[('Home', 'Reset original view', 'home', 'home'), ('Back', 'Back to previous …"
      ]
     },
     "metadata": {},
     "output_type": "display_data"
    },
    {
     "data": {
      "text/plain": [
       "[<matplotlib.lines.Line2D at 0x7ffd914646d0>]"
      ]
     },
     "execution_count": 6,
     "metadata": {},
     "output_type": "execute_result"
    }
   ],
   "source": [
    "#Plotto la funzione di evidence che ho massimizzato per il best fit nella cella precedente\n",
    "%matplotlib widget\n",
    "plt.plot(log_evidence_vP, '.')"
   ]
  },
  {
   "cell_type": "code",
   "execution_count": 7,
   "id": "dc981405",
   "metadata": {},
   "outputs": [
    {
     "name": "stdout",
     "output_type": "stream",
     "text": [
      "numero di elementi:  499\n",
      "numero cicli teornicamente necessari 373501\n",
      "numero cicli compiuti 381\n",
      "numero di elementi non equivalenti per simmetria cubica:  118\n"
     ]
    },
    {
     "data": {
      "application/vnd.jupyter.widget-view+json": {
       "model_id": "3c182494e6324689b14790a0e17756bb",
       "version_major": 2,
       "version_minor": 0
      },
      "text/plain": [
       "Canvas(toolbar=Toolbar(toolitems=[('Home', 'Reset original view', 'home', 'home'), ('Back', 'Back to previous …"
      ]
     },
     "metadata": {},
     "output_type": "display_data"
    },
    {
     "data": {
      "text/plain": [
       "<ErrorbarContainer object of 3 artists>"
      ]
     },
     "execution_count": 7,
     "metadata": {},
     "output_type": "execute_result"
    }
   ],
   "source": [
    "#Plotto il best fit e i dati (gplot e sd)\n",
    "C=bayesianL.cubicarray(list(grid), True)\n",
    "dic, dics=bayesianL.datadicG(data[1], data[2],cubicharmonics.Gvecgenerateall(500)[1:])\n",
    "gplot, dataplot, datasigmaplot=bayesianL.datiplot(C, dic, dics)\n",
    "%matplotlib widget\n",
    "\n",
    "plt.fill_between(np.linalg.norm(gplot[:N], axis=1), y_infer+np.sqrt(sy_infer), y_infer-np.sqrt(sy_infer),  alpha=0.3, color='red')\n",
    "plt.plot(np.linalg.norm(gplot[:N], axis=1), y_infer, '.-', color='red')\n",
    "plt.errorbar(np.linalg.norm(gplot, axis=1), dataplot,datasigmaplot, fmt='.')"
   ]
  },
  {
   "cell_type": "code",
   "execution_count": 8,
   "id": "50bdcc6a",
   "metadata": {
    "scrolled": true
   },
   "outputs": [
    {
     "name": "stdout",
     "output_type": "stream",
     "text": [
      "0 %\n",
      "10 %\n",
      "20 %\n",
      "30 %\n",
      "40 %\n",
      "50 %\n",
      "60 %\n",
      "70 %\n",
      "80 %\n",
      "90 %\n",
      "100 %\n"
     ]
    }
   ],
   "source": [
    "#Calcolo il best fit includendo sempre piu' punti \n",
    "predb=[]\n",
    "spredb=[]\n",
    "Npointsb=[]\n",
    "for N in range(10, 101):\n",
    "    mN, SN, y_infer, sy_infer, spar, log_evidence_vP=\\\n",
    "    bayesianL.bestfit(gplot, sd, N, gplot, ifprintbestfit=False, ifprintfinal=False)\n",
    "    Npointsb.append(np.linalg.norm(gplot[N]))\n",
    "    if (N-10)%(90//10)==0: print(int((N-10)/90*100), '%')\n",
    "    predb.append(mN[0])\n",
    "    spredb.append(SN[0,0])"
   ]
  },
  {
   "cell_type": "code",
   "execution_count": null,
   "id": "6c580235",
   "metadata": {
    "scrolled": false
   },
   "outputs": [],
   "source": [
    "#Calcolo il model averaging su gplot  e sd con 30 punti\n",
    "N=20\n",
    "mr, sr, logevidence=\\\n",
    "bayesianL.bayesianmodelprediction(gplot, sd, N, gplot, ifprintmodpred=False, ifprintfinal=True)"
   ]
  },
  {
   "cell_type": "code",
   "execution_count": null,
   "id": "668790b9",
   "metadata": {
    "scrolled": true
   },
   "outputs": [],
   "source": [
    "#Calcolo il model averaging includendo sempre piu' punti \n",
    "preda=[]\n",
    "spreda=[]\n",
    "Npointsa=[]\n",
    "for N in range(10, 101):\n",
    "    \n",
    "    mr, sr, logevidence=\\\n",
    "    bayesianL.bayesianmodelprediction(gplot, sd, N, gplot, ifprintmodpred=False, ifprintfinal=False)\n",
    "    Npointsa.append(np.linalg.norm(gplot[N]))\n",
    "    if (N-10)%(90//10)==0: print(int((N-10)/90*100), '%')\n",
    "    preda.append(mr)\n",
    "    spreda.append(sr)"
   ]
  },
  {
   "cell_type": "code",
   "execution_count": 20,
   "id": "5128a1d7",
   "metadata": {},
   "outputs": [
    {
     "data": {
      "application/vnd.jupyter.widget-view+json": {
       "model_id": "d9e7dce97acf4641a8907259b97d77ad",
       "version_major": 2,
       "version_minor": 0
      },
      "text/plain": [
       "Canvas(toolbar=Toolbar(toolitems=[('Home', 'Reset original view', 'home', 'home'), ('Back', 'Back to previous …"
      ]
     },
     "metadata": {},
     "output_type": "display_data"
    }
   ],
   "source": [
    "%matplotlib widget\n",
    "fig, ax=plt.subplots(3,constrained_layout=True, figsize=[9,9])\n",
    "\n",
    "\n",
    "ax[0].set_title('Bayesian model averaging prediction at k=0 with data in range $[: k_{max}]$')\n",
    "\n",
    "ax[0].errorbar(np.array(Npointsa), np.array(preda), np.sqrt(np.array(spreda)), fmt='.')\n",
    "ax[0].plot(np.array(Npointsa), np.ones(len(Npointsa))*0.816, label='GK result')\n",
    "    \n",
    "ax[0].set_xlabel('$k_{max} (nm^{-1})$')\n",
    "ax[0].set_ylabel('prediction at k=0')\n",
    "ax[0].legend()\n",
    "ax[1].set_title('Bayesian best model prediction at k=0 with data in range $[: k_{max}]$')\n",
    "\n",
    "ax[1].errorbar(np.array(Npointsb), np.array(predb), np.sqrt(np.array(spredb)), fmt='.')\n",
    "ax[1].plot(np.array(Npointsb), np.ones(len(Npointsb))*0.816, label='GK result')    \n",
    "ax[1].set_xlabel('$k_{max} (nm^{-1})$')\n",
    "ax[1].set_ylabel('prediction at k=0')\n",
    "ax[1].legend()\n",
    "ax[2].set_title('Data')\n",
    "\n",
    "ax[2].errorbar(np.linalg.norm(gplot, axis=1), dataplot,datasigmaplot, fmt='.', label='3375 water molecules at 300k 30ns') \n",
    "\n",
    "ax[2].legend()\n",
    "\n",
    "ax[2].set_xlabel(r'k ($nm^{-1}$)')\n",
    "#plt.savefig('nlttcubic.pdf')"
   ]
  },
  {
   "cell_type": "code",
   "execution_count": null,
   "id": "d4a07ee6",
   "metadata": {},
   "outputs": [],
   "source": []
  }
 ],
 "metadata": {
  "kernelspec": {
   "display_name": "Python 3 (ipykernel)",
   "language": "python",
   "name": "python3"
  },
  "language_info": {
   "codemirror_mode": {
    "name": "ipython",
    "version": 3
   },
   "file_extension": ".py",
   "mimetype": "text/x-python",
   "name": "python",
   "nbconvert_exporter": "python",
   "pygments_lexer": "ipython3",
   "version": "3.9.7"
  }
 },
 "nbformat": 4,
 "nbformat_minor": 5
}
