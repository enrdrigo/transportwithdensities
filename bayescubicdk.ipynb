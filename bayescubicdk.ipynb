{
 "cells": [
  {
   "cell_type": "code",
   "execution_count": 1,
   "id": "ea4862fc",
   "metadata": {},
   "outputs": [],
   "source": [
    "import numpy as np\n",
    "from modules import bayesian\n",
    "from modules import cubicharmonics\n",
    "import matplotlib.pyplot as plt\n",
    "import copy"
   ]
  },
  {
   "cell_type": "code",
   "execution_count": 3,
   "id": "04972b96",
   "metadata": {},
   "outputs": [
    {
     "name": "stdout",
     "output_type": "stream",
     "text": [
      "[0. 0. 1.] [0. 1. 0.] [1. 0. 0.]\n"
     ]
    }
   ],
   "source": [
    "#Carico i dati in data e li ordino in sdata e grid\n",
    "\n",
    "data=np.transpose(np.loadtxt('../nlttk.out'))\n",
    "\n",
    "sdata, grid = bayesian.generatesorteddata(data, 500)"
   ]
  },
  {
   "cell_type": "code",
   "execution_count": 4,
   "id": "b49360b8",
   "metadata": {},
   "outputs": [
    {
     "name": "stdout",
     "output_type": "stream",
     "text": [
      "numero di elementi:  499\n",
      "numero cicli teornicamente necessari 373501\n",
      "numero cicli compiuti 381\n",
      "numero di elementi non equivalenti per simmetria cubica:  118\n"
     ]
    }
   ],
   "source": [
    "#Medio i dati su tutti i punti equivalenti per simmetria cubica e \n",
    "#ritorno la lista dei nuovi dati 'simmetrizzati' in gplot e sd\n",
    "C=bayesian.cubicarray(list(grid), True)\n",
    "dic, dics=bayesian.datadicG(data[1], data[2],cubicharmonics.Gvecgenerateall(500)[1:])\n",
    "gplot, dataplot1, datasigmaplot1=bayesian.datiplot(C, dic, dics)\n",
    "#gplot=grid\n",
    "#dataplot1=sdata[0]\n",
    "#datasigmaplot1=sdata[1]\n",
    "dataplot=np.log(dataplot1)\n",
    "datasigmaplot=datasigmaplot1*np.sqrt(10)/dataplot1\n",
    "sd=np.array([dataplot, datasigmaplot/max(datasigmaplot)])\n"
   ]
  },
  {
   "cell_type": "code",
   "execution_count": 5,
   "id": "84fa9944",
   "metadata": {},
   "outputs": [
    {
     "name": "stderr",
     "output_type": "stream",
     "text": [
      "WARNING:root:HO IMPOSTATO A MANO CHE 2\\PI/L = 0.13484487571168569\n"
     ]
    },
    {
     "name": "stdout",
     "output_type": "stream",
     "text": [
      "parametri ottimali [  -0.39053855  -29.19662418   92.09790486 -155.54012847  144.08711227\n",
      "  -74.97511299   20.41969626   -2.25826676]\n",
      "numero di armoniche cubiche 8\n",
      "valore a kmin inferito -0.5319684019260423 bias -0.3905385472732623 dato a kmin -0.33587062547763863\n",
      "determinante matrice delle armoniche cubiche ridotte: 1.5656815630810402e+36\n"
     ]
    }
   ],
   "source": [
    "#Calcolo il fit bayesiano con glot e sd come test\n",
    "N=118\n",
    "mN, SN, y_infer, sy_infer, conta=\\\n",
    "bayesian.bayesianpol(gplot, sd, 8, N, 0.0001, gplot,bethapar=10000, ifprint= True, ifwarning= True, nLbp=0)"
   ]
  },
  {
   "cell_type": "code",
   "execution_count": 6,
   "id": "9000e353",
   "metadata": {},
   "outputs": [
    {
     "data": {
      "application/vnd.jupyter.widget-view+json": {
       "model_id": "388ab8dc41b547f6a128db6539ffcac8",
       "version_major": 2,
       "version_minor": 0
      },
      "text/plain": [
       "Canvas(toolbar=Toolbar(toolitems=[('Home', 'Reset original view', 'home', 'home'), ('Back', 'Back to previous …"
      ]
     },
     "metadata": {},
     "output_type": "display_data"
    },
    {
     "data": {
      "text/plain": [
       "<ErrorbarContainer object of 3 artists>"
      ]
     },
     "execution_count": 6,
     "metadata": {},
     "output_type": "execute_result"
    }
   ],
   "source": [
    "#Plotto il fit e i dati (gplot e sd)\n",
    "%matplotlib widget\n",
    "plt.fill_between(np.linalg.norm(gplot[:N], axis=1), y_infer+np.sqrt(sy_infer),y_infer-np.sqrt(sy_infer),  alpha=0.3, color='red')\n",
    "plt.plot(np.linalg.norm(gplot[:N], axis=1), y_infer, '.-', color='red')\n",
    "plt.errorbar(np.linalg.norm(gplot, axis=1), dataplot,datasigmaplot, fmt='.')"
   ]
  },
  {
   "cell_type": "code",
   "execution_count": 7,
   "id": "bfe30897",
   "metadata": {
    "scrolled": false
   },
   "outputs": [
    {
     "name": "stdout",
     "output_type": "stream",
     "text": [
      "parametri ottimali [-3.18587305e-01 -3.57077357e+01  1.37068788e+02 -2.90709269e+02\n",
      "  3.55553171e+02 -2.60070714e+02  1.11637089e+02 -2.58714840e+01\n",
      "  2.49429092e+00]\n",
      "numero di armoniche cubiche 9\n",
      "valore a kmin inferito -0.4894435245663657 bias -0.31858730507743793 dato a kmin -0.33587062547763863\n",
      "determinante matrice delle armoniche cubiche ridotte: 2.608968992310223e+20\n",
      "grado ottimale 18 grado massimo tentato 28\n",
      "numero di polinomi nella base ottimale:  9 numero di dati 118\n",
      "best alpha 2.8326514391345833e-05\n",
      "best betha 93.61094967750961\n"
     ]
    },
    {
     "data": {
      "application/vnd.jupyter.widget-view+json": {
       "model_id": "9edaebd5642c41a58f2203aaa7ab3b86",
       "version_major": 2,
       "version_minor": 0
      },
      "text/plain": [
       "Canvas(toolbar=Toolbar(toolitems=[('Home', 'Reset original view', 'home', 'home'), ('Back', 'Back to previous …"
      ]
     },
     "metadata": {},
     "output_type": "display_data"
    },
    {
     "data": {
      "text/plain": [
       "<ErrorbarContainer object of 3 artists>"
      ]
     },
     "execution_count": 7,
     "metadata": {},
     "output_type": "execute_result"
    }
   ],
   "source": [
    "#Calcolo il best fit su gplot e sd con 50 dati\n",
    "N=118\n",
    "mN, SN, y_infer, sy_infer, spar, log_evidence_vP=\\\n",
    "bayesian.bestfit(gplot, sd, N, gplot, ifbetha=True, ifprintbestfit= False, ifprintfinal= True, nLbf=0)\n",
    "#Plotto il best fit e i dati (gplot e sd)\n",
    "\n",
    "\n",
    "\n",
    "%matplotlib widget\n",
    "\n",
    "plt.fill_between(np.linalg.norm(gplot[:N], axis=1), y_infer+np.sqrt(sy_infer), y_infer-np.sqrt(sy_infer),  alpha=0.3, color='red')\n",
    "plt.plot(np.linalg.norm(gplot[:N], axis=1), y_infer, '.-', color='red')\n",
    "plt.errorbar(np.linalg.norm(gplot, axis=1), dataplot,datasigmaplot, fmt='.')"
   ]
  },
  {
   "cell_type": "code",
   "execution_count": 8,
   "id": "71396889",
   "metadata": {},
   "outputs": [
    {
     "data": {
      "application/vnd.jupyter.widget-view+json": {
       "model_id": "f1a2b87dee3a409a80ca0f3bac848eb7",
       "version_major": 2,
       "version_minor": 0
      },
      "text/plain": [
       "Canvas(toolbar=Toolbar(toolitems=[('Home', 'Reset original view', 'home', 'home'), ('Back', 'Back to previous …"
      ]
     },
     "metadata": {},
     "output_type": "display_data"
    },
    {
     "data": {
      "text/plain": [
       "[<matplotlib.lines.Line2D at 0x7f85d2e98610>]"
      ]
     },
     "execution_count": 8,
     "metadata": {},
     "output_type": "execute_result"
    }
   ],
   "source": [
    "#Plotto la funzione di evidence che ho massimizzato per il best fit nella cella precedente\n",
    "%matplotlib widget\n",
    "plt.plot(range(2,(len(log_evidence_vP)+1)*2, 2), log_evidence_vP, '.')"
   ]
  },
  {
   "cell_type": "code",
   "execution_count": 9,
   "id": "cc6e454d",
   "metadata": {
    "scrolled": false
   },
   "outputs": [
    {
     "name": "stdout",
     "output_type": "stream",
     "text": [
      "0 %\n",
      "20 %\n",
      "40 %\n",
      "60 %\n",
      "80 %\n",
      "0 %\n",
      "20 %\n",
      "40 %\n",
      "60 %\n",
      "80 %\n"
     ]
    }
   ],
   "source": [
    "#Calcolo il best fit includendo sempre piu' punti \n",
    "predbl=[]\n",
    "spredbl=[]\n",
    "Npointsbl=[]\n",
    "N_max=101\n",
    "N_iter=1\n",
    "N_min=21\n",
    "for i in range(2):\n",
    "    predb=[]\n",
    "    spredb=[]\n",
    "    Npointsb=[]\n",
    "    for N in range(N_min, N_max, N_iter):\n",
    "        \n",
    "        mN, SN, y_infer, sy_infer, spar, log_evidence_vP=\\\n",
    "        bayesian.bestfit(gplot, sd, N, gplot, ifbetha=True, ifprintbestfit=False, ifprintfinal=False, nLbf=i)\n",
    "        Npointsb.append(np.linalg.norm(gplot[N]))\n",
    "        if (N-N_min)%(((N_max-N_min))//5)==0: print(int((N-N_min)/((N_max-N_min))*100), '%')\n",
    "        predb.append(mN[0])\n",
    "        spredb.append(SN[0,0])\n",
    "    predbl.append(predb)\n",
    "    spredbl.append(spredb)\n",
    "    Npointsbl.append(Npointsb)"
   ]
  },
  {
   "cell_type": "code",
   "execution_count": 10,
   "id": "fee2c852",
   "metadata": {
    "scrolled": false
   },
   "outputs": [
    {
     "data": {
      "application/vnd.jupyter.widget-view+json": {
       "model_id": "56670a377b384d389c737fca78bc792a",
       "version_major": 2,
       "version_minor": 0
      },
      "text/plain": [
       "Canvas(toolbar=Toolbar(toolitems=[('Home', 'Reset original view', 'home', 'home'), ('Back', 'Back to previous …"
      ]
     },
     "metadata": {},
     "output_type": "display_data"
    },
    {
     "data": {
      "text/plain": [
       "Text(0.5, 0, 'k ($nm^{-1}$)')"
      ]
     },
     "execution_count": 10,
     "metadata": {},
     "output_type": "execute_result"
    }
   ],
   "source": [
    "%matplotlib widget\n",
    "fig, ax=plt.subplots(2,constrained_layout=True, figsize=[9,9])\n",
    "\n",
    "\n",
    "ax[0].set_title('Bayesian best model prediction at k=0 with data in range $[: k_{max}]$')\n",
    "L=[0,[0,4],[0,4,6], [0,4,6,8], [0,4,6,8,10]]\n",
    "for i in range(1):\n",
    "    #ax[0].errorbar(np.array(Npointsbl[i]), np.array(predbl[i]), np.sqrt(np.array(spredbl[i])), fmt='.', label=r'$L_{max}$'+'={}'.format(L[i]))\n",
    "    ax[0].errorbar(np.array(Npointsbl[i]), np.exp(np.array(predbl[i])), np.exp(np.array(predbl[i]))*np.sqrt(np.array(spredbl[i])), fmt='.', label=r'$L_{max}$'+'={}'.format(L[i]))\n",
    "ax[0].fill_between(np.array(Npointsbl[0]), np.ones(len(Npointsbl[0]))*0.816-np.ones(len(Npointsbl[0]))*0.021, np.ones(len(Npointsbl[1]))*0.816+np.ones(len(Npointsbl[1]))*0.021, label='GK result', alpha=0.3)    \n",
    "ax[0].set_xlabel('$k_{max} (nm^{-1})$')\n",
    "ax[0].set_ylabel('prediction at k=0')\n",
    "ax[0].legend()\n",
    "ax[1].set_title('Data')\n",
    "\n",
    "ax[1].errorbar(np.linalg.norm(gplot, axis=1), dataplot1,datasigmaplot1*np.sqrt(10.), fmt='.', label='3375 water molecules at 300k 30ns') \n",
    "ax[1].fill_between(np.linalg.norm(gplot, axis=1), np.ones(len(gplot))*0.816-np.ones(len(gplot))*0.021, np.ones(len(gplot))*0.816+np.ones(len(gplot))*0.021, label='GK result', alpha=0.3)    \n",
    "ax[1].legend()\n",
    "\n",
    "ax[1].set_xlabel(r'k ($nm^{-1}$)')"
   ]
  },
  {
   "cell_type": "code",
   "execution_count": 26,
   "id": "967d02be",
   "metadata": {},
   "outputs": [],
   "source": [
    "datimg=np.loadtxt('Dkkmax.text')"
   ]
  },
  {
   "cell_type": "code",
   "execution_count": 52,
   "id": "5796993c",
   "metadata": {},
   "outputs": [
    {
     "data": {
      "application/vnd.jupyter.widget-view+json": {
       "model_id": "a76aef940e2e4b6797f2d49f9d9e0520",
       "version_major": 2,
       "version_minor": 0
      },
      "text/plain": [
       "Canvas(toolbar=Toolbar(toolitems=[('Home', 'Reset original view', 'home', 'home'), ('Back', 'Back to previous …"
      ]
     },
     "metadata": {},
     "output_type": "display_data"
    },
    {
     "data": {
      "text/plain": [
       "Text(0.5, 0, 'k ($nm^{-1}$)')"
      ]
     },
     "execution_count": 52,
     "metadata": {},
     "output_type": "execute_result"
    }
   ],
   "source": [
    "datimg[0]\n",
    "%matplotlib widget\n",
    "fig, ax=plt.subplots(2,constrained_layout=True, figsize=[9,9])\n",
    "\n",
    "\n",
    "ax[0].set_title('Bayesian best model prediction at k=0 with data in range $[: k_{max}]$')\n",
    "L=[0,[0,4],[0,4,6], [0,4,6,8], [0,4,6,8,10]]\n",
    "for i in range(1):\n",
    "    #ax[0].errorbar(np.array(Npointsbl[i]), np.array(predbl[i]), np.sqrt(np.array(spredbl[i])), fmt='.', label=r'$L_{max}$'+'={}'.format(L[i]))\n",
    "    ax[0].errorbar(np.array(Npointsbl[i]), np.exp(np.array(predbl[i])), np.exp(np.array(predbl[i]))*np.sqrt(np.array(spredbl[i])), fmt='.', label=r'$L_{max}$'+'={}'.format(L[i]))\n",
    "ax[0].fill_between(np.array(Npointsbl[0]), np.ones(len(Npointsbl[0]))*0.816-np.ones(len(Npointsbl[0]))*0.021, np.ones(len(Npointsbl[1]))*0.816+np.ones(len(Npointsbl[1]))*0.021, label='GK result', alpha=0.3)\n",
    "ax[0].errorbar(datimg[0]*10, datimg[1], datimg[2], fmt='.', label='mg')\n",
    "ax[0].set_xlabel('$k_{max} (nm^{-1})$')\n",
    "ax[0].set_ylabel('prediction at k=0')\n",
    "ax[0].legend()\n",
    "ax[1].set_title('Data')\n",
    "\n",
    "ax[1].errorbar(np.linalg.norm(gplot, axis=1), dataplot1,datasigmaplot1*np.sqrt(10.), fmt='.', label='3375 water molecules at 300k 30ns') \n",
    "ax[1].fill_between(np.linalg.norm(gplot, axis=1), np.ones(len(gplot))*0.816-np.ones(len(gplot))*0.021, np.ones(len(gplot))*0.816+np.ones(len(gplot))*0.021, label='GK result', alpha=0.3)    \n",
    "ax[1].legend()\n",
    "\n",
    "ax[1].set_xlabel(r'k ($nm^{-1}$)')"
   ]
  },
  {
   "cell_type": "code",
   "execution_count": null,
   "id": "c4f2a695",
   "metadata": {},
   "outputs": [],
   "source": []
  }
 ],
 "metadata": {
  "kernelspec": {
   "display_name": "Python 3 (ipykernel)",
   "language": "python",
   "name": "python3"
  },
  "language_info": {
   "codemirror_mode": {
    "name": "ipython",
    "version": 3
   },
   "file_extension": ".py",
   "mimetype": "text/x-python",
   "name": "python",
   "nbconvert_exporter": "python",
   "pygments_lexer": "ipython3",
   "version": "3.9.7"
  }
 },
 "nbformat": 4,
 "nbformat_minor": 5
}
