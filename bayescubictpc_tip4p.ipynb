{
 "cells": [
  {
   "cell_type": "code",
   "execution_count": 1,
   "id": "ea4862fc",
   "metadata": {},
   "outputs": [],
   "source": [
    "import numpy as np\n",
    "from modules import bayesian\n",
    "from modules import cubicharmonics\n",
    "import matplotlib.pyplot as plt\n",
    "import copy"
   ]
  },
  {
   "cell_type": "code",
   "execution_count": 2,
   "id": "04972b96",
   "metadata": {},
   "outputs": [
    {
     "name": "stdout",
     "output_type": "stream",
     "text": [
      "[1. 0. 0.] [0. 0. 1.] [0. 1. 0.]\n"
     ]
    }
   ],
   "source": [
    "#Carico i dati in data e li ordino in sdata e grid\n",
    "\n",
    "data=np.transpose(np.loadtxt('tip4p/thermopolarizationresponse.out'))\n",
    "\n",
    "sdata, grid = bayesian.generatesorteddata(data, 500)"
   ]
  },
  {
   "cell_type": "code",
   "execution_count": 3,
   "id": "b49360b8",
   "metadata": {},
   "outputs": [
    {
     "name": "stdout",
     "output_type": "stream",
     "text": [
      "numero di elementi:  499\n",
      "numero cicli teornicamente necessari 373501\n",
      "numero cicli compiuti 381\n",
      "numero di elementi non equivalenti per simmetria cubica:  118\n"
     ]
    }
   ],
   "source": [
    "#Medio i dati su tutti i punti equivalenti per simmetria cubica e \n",
    "#ritorno la lista dei nuovi dati 'simmetrizzati' in gplot e sd\n",
    "C=bayesian.cubicarray(list(grid), True)\n",
    "dic, dics=bayesian.datadicG(data[1], data[2],cubicharmonics.Gvecgenerateall(500)[1:])\n",
    "gplot, dataplot1, datasigmaplot1=bayesian.datiplot(C, dic, dics)\n",
    "#gplot=grid\n",
    "#dataplot1=sdata[0]\n",
    "#datasigmaplot1=sdata[1]\n",
    "dataplot=(dataplot1)\n",
    "datasigmaplot=datasigmaplot1\n",
    "sd=np.array([dataplot, datasigmaplot])"
   ]
  },
  {
   "cell_type": "code",
   "execution_count": 4,
   "id": "84fa9944",
   "metadata": {},
   "outputs": [
    {
     "name": "stderr",
     "output_type": "stream",
     "text": [
      "WARNING:root:HO IMPOSTATO A MANO CHE 2\\PI/L = 0.13484487571168569\n"
     ]
    },
    {
     "name": "stdout",
     "output_type": "stream",
     "text": [
      "parametri ottimali [ 4.76628798e-05  5.93681150e-05 -1.60144700e-04  5.81223422e-04\n",
      " -9.73395378e-04  8.68024959e-04 -3.88306776e-04  6.90548930e-05]\n",
      "numero di armoniche cubiche 8\n",
      "valore a kmin inferito 4.7953420611037597e-05 bias 4.7662879844493085e-05 dato a kmin 4.849114344202728e-05\n",
      "determinante matrice delle armoniche cubiche ridotte: 1.0320122787248792e+93\n"
     ]
    }
   ],
   "source": [
    "#Calcolo il fit bayesiano con glot e sd come test\n",
    "N=100\n",
    "mN, SN, y_infer, sy_infer, conta=\\\n",
    "bayesian.bayesianpol(gplot, sd, 8, N, 0.000000001, gplot,bethapar=1, ifprint= True, ifwarning= True, nLbp=0)"
   ]
  },
  {
   "cell_type": "code",
   "execution_count": 5,
   "id": "9000e353",
   "metadata": {},
   "outputs": [
    {
     "data": {
      "application/vnd.jupyter.widget-view+json": {
       "model_id": "c32735dd8ca8465aacc12cb757b08461",
       "version_major": 2,
       "version_minor": 0
      },
      "text/plain": [
       "Canvas(toolbar=Toolbar(toolitems=[('Home', 'Reset original view', 'home', 'home'), ('Back', 'Back to previous …"
      ]
     },
     "metadata": {},
     "output_type": "display_data"
    },
    {
     "data": {
      "text/plain": [
       "[<matplotlib.lines.Line2D at 0x7fe4949fa5e0>]"
      ]
     },
     "execution_count": 5,
     "metadata": {},
     "output_type": "execute_result"
    }
   ],
   "source": [
    "#Plotto il fit e i dati (gplot e sd)\n",
    "%matplotlib widget\n",
    "\n",
    "plt.errorbar(np.linalg.norm(gplot, axis=1)*0.13484622*10, dataplot,datasigmaplot, fmt='.')\n",
    "plt.fill_between(np.linalg.norm(gplot[:N], axis=1)*0.13484622*10, y_infer+np.sqrt(sy_infer),y_infer-np.sqrt(sy_infer),  alpha=0.3, color='red')\n",
    "plt.plot(np.linalg.norm(gplot[:N], axis=1)*0.13484622*10, y_infer, '.-', color='red')"
   ]
  },
  {
   "cell_type": "code",
   "execution_count": 6,
   "id": "bfe30897",
   "metadata": {
    "scrolled": false
   },
   "outputs": [
    {
     "name": "stdout",
     "output_type": "stream",
     "text": [
      "parametri ottimali [ 4.78673337e-05  3.70071260e-05  1.57968353e-05 -4.25093719e-06\n",
      "  6.65299301e-06]\n",
      "numero di armoniche cubiche 5\n",
      "valore a kmin inferito 4.8058623206065244e-05 bias 4.7867333656472196e-05 dato a kmin 4.849114344202728e-05\n",
      "determinante matrice delle armoniche cubiche ridotte: 5.1435849998963676e+64\n",
      "grado ottimale 10 grado massimo tentato 28\n",
      "numero di polinomi nella base ottimale:  5 numero di dati 100\n",
      "best alpha 1195838330.757022\n",
      "best betha 1\n"
     ]
    },
    {
     "data": {
      "application/vnd.jupyter.widget-view+json": {
       "model_id": "9ce8b084f8ca417e9655b122519d8e69",
       "version_major": 2,
       "version_minor": 0
      },
      "text/plain": [
       "Canvas(toolbar=Toolbar(toolitems=[('Home', 'Reset original view', 'home', 'home'), ('Back', 'Back to previous …"
      ]
     },
     "metadata": {},
     "output_type": "display_data"
    },
    {
     "data": {
      "text/plain": [
       "<ErrorbarContainer object of 3 artists>"
      ]
     },
     "execution_count": 6,
     "metadata": {},
     "output_type": "execute_result"
    }
   ],
   "source": [
    "#Calcolo il best fit su gplot e sd con 50 dati\n",
    "N=100\n",
    "mN, SN, y_infer, sy_infer, spar, log_evidence_vP=\\\n",
    "bayesian.bestfit(gplot, sd, N, gplot, ifbetha=False, ifprintbestfit= False, ifprintfinal= True, nLbf=0)\n",
    "#Plotto il best fit e i dati (gplot e sd)\n",
    "\n",
    "\n",
    "\n",
    "%matplotlib widget\n",
    "\n",
    "plt.fill_between(np.linalg.norm(gplot[:N], axis=1)*0.13484622*10, y_infer+np.sqrt(sy_infer-1), y_infer-np.sqrt(sy_infer-1),  alpha=0.3, color='red')\n",
    "plt.plot(np.linalg.norm(gplot[:N], axis=1)*0.13484622*10, y_infer, '.-', color='red')\n",
    "plt.errorbar(np.linalg.norm(gplot, axis=1)*0.13484622*10, dataplot,datasigmaplot, fmt='.')"
   ]
  },
  {
   "cell_type": "code",
   "execution_count": 7,
   "id": "71396889",
   "metadata": {},
   "outputs": [
    {
     "data": {
      "application/vnd.jupyter.widget-view+json": {
       "model_id": "8913bea273ac4126831bfe55a183e2f1",
       "version_major": 2,
       "version_minor": 0
      },
      "text/plain": [
       "Canvas(toolbar=Toolbar(toolitems=[('Home', 'Reset original view', 'home', 'home'), ('Back', 'Back to previous …"
      ]
     },
     "metadata": {},
     "output_type": "display_data"
    },
    {
     "data": {
      "text/plain": [
       "[<matplotlib.lines.Line2D at 0x7fe4954e7d90>]"
      ]
     },
     "execution_count": 7,
     "metadata": {},
     "output_type": "execute_result"
    }
   ],
   "source": [
    "#Plotto la funzione di evidence che ho massimizzato per il best fit nella cella precedente\n",
    "%matplotlib widget\n",
    "plt.plot(range(2,(len(log_evidence_vP)+1)*2, 2), log_evidence_vP, '.')"
   ]
  },
  {
   "cell_type": "code",
   "execution_count": 8,
   "id": "cc6e454d",
   "metadata": {
    "scrolled": false
   },
   "outputs": [
    {
     "name": "stdout",
     "output_type": "stream",
     "text": [
      "0 %\n",
      "20 %\n",
      "40 %\n",
      "60 %\n",
      "80 %\n"
     ]
    }
   ],
   "source": [
    "#Calcolo il best fit includendo sempre piu' punti \n",
    "predbl=[]\n",
    "spredbl=[]\n",
    "Npointsbl=[]\n",
    "N_max=70\n",
    "N_iter=2\n",
    "N_min=10\n",
    "for i in range(1):\n",
    "    predb=[]\n",
    "    spredb=[]\n",
    "    Npointsb=[]\n",
    "    for N in range(N_min, N_max, N_iter):\n",
    "        \n",
    "        mN, SN, y_infer, sy_infer, spar, log_evidence_vP=\\\n",
    "        bayesian.bestfit(gplot, sd, N, gplot, ifbetha=False, ifprintbestfit=False, ifprintfinal=False, nLbf=i)\n",
    "        Npointsb.append(np.linalg.norm(gplot[N]))\n",
    "        if (N-N_min)%(((N_max-N_min))//5)==0: print(int((N-N_min)/((N_max-N_min))*100), '%')\n",
    "        predb.append(mN[0])\n",
    "        spredb.append(SN[0,0])\n",
    "        \n",
    "    predbl.append(predb)\n",
    "    spredbl.append(spredb)\n",
    "    Npointsbl.append(Npointsb)"
   ]
  },
  {
   "cell_type": "code",
   "execution_count": 27,
   "id": "672789b6",
   "metadata": {},
   "outputs": [
    {
     "name": "stdout",
     "output_type": "stream",
     "text": [
      "parametri ottimali [ 4.79778586e-05  3.42157994e-05  2.16579226e-05 -8.90921655e-06\n",
      "  7.88839801e-06]\n",
      "numero di armoniche cubiche 5\n",
      "valore a kmin inferito 4.8155369227538384e-05 bias 4.797785863292123e-05 dato a kmin 4.849114344202728e-05\n",
      "determinante matrice delle armoniche cubiche ridotte: 3.2257058390194626e+67\n",
      "grado ottimale 10 grado massimo tentato 28\n",
      "numero di polinomi nella base ottimale:  5 numero di dati 118\n",
      "best alpha 1211841063.9676661\n",
      "best betha 1\n"
     ]
    },
    {
     "data": {
      "application/vnd.jupyter.widget-view+json": {
       "model_id": "d99a924d6889468e9884d77114c8ad08",
       "version_major": 2,
       "version_minor": 0
      },
      "text/plain": [
       "Canvas(toolbar=Toolbar(toolitems=[('Home', 'Reset original view', 'home', 'home'), ('Back', 'Back to previous …"
      ]
     },
     "metadata": {},
     "output_type": "display_data"
    },
    {
     "data": {
      "text/plain": [
       "<ErrorbarContainer object of 3 artists>"
      ]
     },
     "execution_count": 27,
     "metadata": {},
     "output_type": "execute_result"
    }
   ],
   "source": [
    "#Calcolo il best fit su gplot e sd con 50 dati\n",
    "N=118\n",
    "mN, SN, y_infer, sy_infer, spar, log_evidence_vP=\\\n",
    "bayesian.bestfit(gplot, sd, N, gplot, ifbetha=False, ifprintbestfit= False, ifprintfinal= True, nLbf=0)\n",
    "#Plotto il best fit e i dati (gplot e sd)\n",
    "\n",
    "\n",
    "\n",
    "%matplotlib widget\n",
    "\n",
    "plt.fill_between(np.linalg.norm(gplot[:N], axis=1)*0.13484622*10, y_infer+np.sqrt(sy_infer-1), y_infer-np.sqrt(sy_infer-1),  alpha=0.3, color='red')\n",
    "plt.plot(np.linalg.norm(gplot[:N], axis=1)*0.13484622*10, y_infer, '.-', color='red')\n",
    "plt.errorbar(np.linalg.norm(gplot, axis=1)*0.13484622*10, dataplot,datasigmaplot, fmt='.')"
   ]
  },
  {
   "cell_type": "code",
   "execution_count": 28,
   "id": "d4df0285",
   "metadata": {},
   "outputs": [
    {
     "data": {
      "application/vnd.jupyter.widget-view+json": {
       "model_id": "84627a56c8804dd3960058cf732bff97",
       "version_major": 2,
       "version_minor": 0
      },
      "text/plain": [
       "Canvas(toolbar=Toolbar(toolitems=[('Home', 'Reset original view', 'home', 'home'), ('Back', 'Back to previous …"
      ]
     },
     "metadata": {},
     "output_type": "display_data"
    },
    {
     "data": {
      "text/plain": [
       "Text(0, 0.5, '$S(\\\\mathbf{k}=0)\\\\,\\\\left[\\\\frac{\\\\mu V}{K}\\\\right]$')"
      ]
     },
     "execution_count": 28,
     "metadata": {},
     "output_type": "execute_result"
    }
   ],
   "source": [
    "%matplotlib widget\n",
    "fig, ax=plt.subplots(constrained_layout=True)\n",
    "\n",
    "\n",
    "plt.rc('font', size=20)          # controls default text sizes\n",
    "plt.rc('axes', labelsize=20)    # fontsize of the x and y labels\n",
    "plt.rc('xtick', labelsize=18)    # fontsize of the tick labels\n",
    "plt.rc('ytick', labelsize=20)    # fontsize of the tick labels\n",
    "plt.rc('legend', fontsize=20)    # legend fontsize\n",
    "\n",
    "#ax.set_title('Bayesian best model prediction at $\\mathbf{k}=0$ with data in range $[: k_{max}]$')\n",
    "L=[0,[0,4],[0,4,6], [0,4,6,8], [0,4,6,8,10]]\n",
    "for i in range(1):\n",
    "    #ax[0].errorbar(np.array(Npointsbl[i]), np.array(predbl[i]), np.sqrt(np.array(spredbl[i])), fmt='.', label=r'$L_{max}$'+'={}'.format(L[i]))\n",
    "    ax.errorbar(np.array(Npointsbl[i])*0.13484622*10, (np.array(predbl[i]))*1.0e6, np.sqrt(np.array(spredbl[i]))*1.0e6, fmt='.', color='black')\n",
    "#ax[0].fill_between(np.array(Npointsbl[0]), np.ones(len(Npointsbl[0]))*0.816-np.ones(len(Npointsbl[0]))*0.021, np.ones(len(Npointsbl[1]))*0.816+np.ones(len(Npointsbl[1]))*0.021, label='GK result', alpha=0.3)    \n",
    "ax.set_xlabel(r'$k_{max} (nm^{-1})$')\n",
    "ax.set_ylabel(r'$S(\\mathbf{k}=0)\\,\\left[\\frac{\\mu V}{K}\\right]$')\n",
    "\n",
    "#plt.savefig('tip4p/predictions.pdf')"
   ]
  },
  {
   "cell_type": "code",
   "execution_count": 36,
   "id": "fee2c852",
   "metadata": {
    "scrolled": false
   },
   "outputs": [
    {
     "data": {
      "application/vnd.jupyter.widget-view+json": {
       "model_id": "1220b3040f2c40d0a604f973871b468e",
       "version_major": 2,
       "version_minor": 0
      },
      "text/plain": [
       "Canvas(toolbar=Toolbar(toolitems=[('Home', 'Reset original view', 'home', 'home'), ('Back', 'Back to previous …"
      ]
     },
     "metadata": {},
     "output_type": "display_data"
    },
    {
     "data": {
      "text/plain": [
       "<matplotlib.collections.PolyCollection at 0x7fe49c1dd670>"
      ]
     },
     "execution_count": 36,
     "metadata": {},
     "output_type": "execute_result"
    }
   ],
   "source": [
    "%matplotlib widget\n",
    "fig, ax=plt.subplots(constrained_layout=True)\n",
    "#ax.set_title('Data')\n",
    "plt.rc('font', size=20)          # controls default text sizes\n",
    "plt.rc('axes', labelsize=20)    # fontsize of the x and y labels\n",
    "plt.rc('xtick', labelsize=18)    # fontsize of the tick labels\n",
    "plt.rc('ytick', labelsize=20)    # fontsize of the tick labels\n",
    "plt.rc('legend', fontsize=15)    # legend fontsize\n",
    "ax.errorbar(np.linalg.norm(gplot, axis=1)*0.13484622*10, dataplot1*1.0e6,datasigmaplot1*1.0e6, fmt='.', color='black') \n",
    "#ax[1].fill_between(np.linalg.norm(gplot, axis=1), np.ones(len(gplot))*0.816-np.ones(len(gplot))*0.021, np.ones(len(gplot))*0.816+np.ones(len(gplot))*0.021, label='GK result', alpha=0.3) \n",
    "ax.plot(np.linalg.norm(gplot[:N], axis=1)*0.13484622*10, y_infer*1.0e6 , color='red', label=r'bayesian regression',)\n",
    "ax.fill_between(np.linalg.norm(gplot[:N], axis=1)*0.13484622*10, y_infer*1.0e6+np.sqrt(sy_infer-1)*1.0e6, y_infer*1.0e6-np.sqrt(sy_infer-1)*1.0e6,  alpha=0.3, color='red')\n",
    "ax.set_ylabel(r'$S(\\mathbf{k})\\, \\left[\\frac{\\mu V}{K}\\right]$')\n",
    "ax.set_xlabel(r'k ($nm^{-1}$)')\n",
    "ax.set_xlim(0,14)\n",
    "ax.set_ylim(46,105)\n",
    "plt.legend()\n",
    "ax2 = fig.add_axes([0.3, 0.41, 0.43, 0.43])\n",
    "ax2.set_xlim((1.25,6.5))\n",
    "ax2.set_ylim((46.8,53))\n",
    "ax2.set_xticks([2.5,5])\n",
    "ax2.set_yticks([48, 50, 52])\n",
    "ax2.plot(np.linalg.norm(gplot[:N], axis=1)*0.13484622*10, y_infer*1.0e6 , color='red')\n",
    "ax2.errorbar(np.linalg.norm(gplot, axis=1)*0.13484622*10, dataplot1*1.0e6,datasigmaplot1*1.0e6, fmt='.', color='black')\n",
    "ax2.fill_between(np.linalg.norm(gplot[:N], axis=1)*0.13484622*10, y_infer*1.0e6+np.sqrt(sy_infer-1)*1.0e6, y_infer*1.0e6-np.sqrt(sy_infer-1)*1.0e6,  alpha=0.3, color='red')\n",
    "#ax.indicate_inset_zoom(ax2)\n",
    "#plt.savefig('tip4p/s_wfit.pdf')"
   ]
  },
  {
   "cell_type": "code",
   "execution_count": 21,
   "id": "986a2c9d",
   "metadata": {},
   "outputs": [],
   "source": [
    "static=np.transpose(np.loadtxt('tip4p/staticresponse.out')[1:])\n",
    "static0=np.transpose(np.loadtxt('tip4p/staticresponse.out')[0])"
   ]
  },
  {
   "cell_type": "code",
   "execution_count": 22,
   "id": "c4f2a695",
   "metadata": {},
   "outputs": [
    {
     "name": "stdout",
     "output_type": "stream",
     "text": [
      "[0. 1. 0.] [1. 0. 0.] [0. 0. 1.]\n",
      "numero di elementi:  499\n",
      "numero cicli teornicamente necessari 373501\n",
      "numero cicli compiuti 381\n",
      "numero di elementi non equivalenti per simmetria cubica:  118\n"
     ]
    }
   ],
   "source": [
    "statics, gridst = bayesian.generatesorteddata(static, 500)\n",
    "C=bayesian.cubicarray(list(gridst), True)\n",
    "dic, dics=bayesian.datadicG(static[3], static[4],cubicharmonics.Gvecgenerateall(500)[1:])\n",
    "gplot, dataplotst, datasigmaplotst=bayesian.datiplot(C, dic, dics)\n"
   ]
  },
  {
   "cell_type": "code",
   "execution_count": 23,
   "id": "78d98d63",
   "metadata": {},
   "outputs": [
    {
     "data": {
      "application/vnd.jupyter.widget-view+json": {
       "model_id": "59a2baaf010c41b7aaf17297d67acca8",
       "version_major": 2,
       "version_minor": 0
      },
      "text/plain": [
       "Canvas(toolbar=Toolbar(toolitems=[('Home', 'Reset original view', 'home', 'home'), ('Back', 'Back to previous …"
      ]
     },
     "metadata": {},
     "output_type": "display_data"
    },
    {
     "data": {
      "text/plain": [
       "<ErrorbarContainer object of 3 artists>"
      ]
     },
     "execution_count": 23,
     "metadata": {},
     "output_type": "execute_result"
    }
   ],
   "source": [
    "%matplotlib widget\n",
    "fig, ax=plt.subplots(1,constrained_layout=True, figsize=[9,9])\n",
    "ax.errorbar(static[0]*10, static[3], static[4], fmt='.')\n",
    "ax.errorbar(np.linalg.norm(gplot,axis=1)*0.13484622*10, dataplotst, datasigmaplotst, fmt='.')\n"
   ]
  },
  {
   "cell_type": "code",
   "execution_count": 24,
   "id": "62700495",
   "metadata": {},
   "outputs": [
    {
     "data": {
      "application/vnd.jupyter.widget-view+json": {
       "model_id": "2c258113376149fc957772ff0e79bfe9",
       "version_major": 2,
       "version_minor": 0
      },
      "text/plain": [
       "Canvas(toolbar=Toolbar(toolitems=[('Home', 'Reset original view', 'home', 'home'), ('Back', 'Back to previous …"
      ]
     },
     "metadata": {},
     "output_type": "display_data"
    },
    {
     "data": {
      "text/plain": [
       "(-100.0, 200.0)"
      ]
     },
     "execution_count": 24,
     "metadata": {},
     "output_type": "execute_result"
    }
   ],
   "source": [
    "%matplotlib widget\n",
    "fig, ax=plt.subplots(constrained_layout=True)\n",
    "N=46\n",
    "\n",
    "plt.rc('font', size=20)          # controls default text sizes\n",
    "plt.rc('axes', labelsize=20)    # fontsize of the x and y labels\n",
    "plt.rc('xtick', labelsize=20)    # fontsize of the tick labels\n",
    "plt.rc('ytick', labelsize=20)    # fontsize of the tick labels\n",
    "plt.rc('legend', fontsize=20)    # legend fontsize\n",
    "ax.errorbar(np.linalg.norm(gplot[:N],axis=1)*0.13484622*10, 1/(1-dataplotst[:N]), datasigmaplotst[:N]/(1-dataplotst[:N])**2, fmt='.', color='black')\n",
    "ax.errorbar(np.linalg.norm(gplot[N+3:],axis=1)*0.13484622*10, 1/(1-dataplotst[N+3:]), datasigmaplotst[N+3:]/(1-dataplotst[N+3:])**2, fmt='.', color='black')\n",
    "ax.errorbar((static0[0]), (static0[3]),static0[4], color='red', label=r'$\\epsilon(\\mathbf{k}=0)$',fmt='.')\n",
    "ax.set_xlabel(r'k ($nm^{-1}$)')\n",
    "ax.set_ylabel(r'$\\epsilon(\\mathbf{k})$')\n",
    "ax.legend(loc='best')\n",
    "ax.set_ylim(ymin=-100, ymax=200)\n",
    "#plt.savefig('tip4p/epsilonk.pdf')"
   ]
  },
  {
   "cell_type": "code",
   "execution_count": 25,
   "id": "2e98d2da",
   "metadata": {},
   "outputs": [
    {
     "data": {
      "application/vnd.jupyter.widget-view+json": {
       "model_id": "bc56c5d2ecc0454abdd24a8f923a3aec",
       "version_major": 2,
       "version_minor": 0
      },
      "text/plain": [
       "Canvas(toolbar=Toolbar(toolitems=[('Home', 'Reset original view', 'home', 'home'), ('Back', 'Back to previous …"
      ]
     },
     "metadata": {},
     "output_type": "display_data"
    },
    {
     "data": {
      "text/plain": [
       "(63.93857866225694, 1.4010160054120764)"
      ]
     },
     "execution_count": 25,
     "metadata": {},
     "output_type": "execute_result"
    }
   ],
   "source": [
    "%matplotlib widget\n",
    "fig, ax=plt.subplots(constrained_layout=True)\n",
    "\n",
    "N=46\n",
    "\n",
    "plt.rc('font', size=20)          # controls default text sizes\n",
    "plt.rc('axes', labelsize=20)    # fontsize of the x and y labels\n",
    "plt.rc('xtick', labelsize=20)    # fontsize of the tick labels\n",
    "plt.rc('ytick', labelsize=20)    # fontsize of the tick labels\n",
    "plt.rc('legend', fontsize=20)    # legend fontsize\n",
    "\n",
    "\n",
    "ax.errorbar(np.linalg.norm(gplot,axis=1)*0.13484622*10, dataplotst, datasigmaplotst, fmt='.', color='black')\n",
    "ax.fill_between(np.linspace(0,15,100), (1-1/static0[3])*np.ones(len(np.linspace(0,15,100)))+ static0[4]/static0[3]**2*np.ones(len(np.linspace(0,15,100))), (1-1/static0[3])*np.ones(len(np.linspace(0,15,100)))- static0[4]/static0[3]**2*np.ones(len(np.linspace(0,15,100))),  alpha=0.2, color='red')\n",
    "ax.plot(np.linspace(0,15,100), (1-1/static0[3])*np.ones(len(np.linspace(0,15,100))), label=r'$1-\\frac{1}{\\epsilon(\\mathbf{k}=0)}$', color='red')\n",
    "ax.set_xlabel(r'k ($nm^{-1}$)')\n",
    "ax.set_ylabel(r'$\\chi_c(\\mathbf{k})/\\epsilon_0$')\n",
    "ax.legend()\n",
    "ax.set_xlim(xmin=0, xmax=14)\n",
    "ax.set_ylim(ymin=0.95, ymax=2.)\n",
    "ax2 = fig.add_axes([0.3, 0.41, 0.35, 0.33])\n",
    "ax2.set_xlim((1,5))\n",
    "ax2.set_ylim((0.98,1.025))\n",
    "ax2.set_xticks([2.5,5.0])\n",
    "ax2.set_yticks([0.98,1, 1.02])\n",
    "ax2.errorbar(np.linalg.norm(gplot,axis=1)*0.13484622*10, dataplotst, datasigmaplotst, fmt='.', color='black')\n",
    "ax2.fill_between(np.linspace(0,15,100), (1-1/static0[3])*np.ones(len(np.linspace(0,15,100)))+ static0[4]/static0[3]**2*np.ones(len(np.linspace(0,15,100))), (1-1/static0[3])*np.ones(len(np.linspace(0,15,100)))- static0[4]/static0[3]**2*np.ones(len(np.linspace(0,15,100))),  alpha=0.2, color='red')\n",
    "ax2.plot(np.linspace(0,15,100), (1-1/static0[3])*np.ones(len(np.linspace(0,15,100))), color='red')\n",
    "\n",
    "static0[3], static0[4]\n",
    "#plt.savefig('tip4p/epsilonkandchic.pdf')"
   ]
  },
  {
   "cell_type": "code",
   "execution_count": 25,
   "id": "763db705",
   "metadata": {},
   "outputs": [
    {
     "data": {
      "text/plain": [
       "[0, 1, 3]"
      ]
     },
     "execution_count": 25,
     "metadata": {},
     "output_type": "execute_result"
    }
   ],
   "source": [
    "a=[0,1,3]\n",
    "np.sum(a)\n",
    "a"
   ]
  },
  {
   "cell_type": "code",
   "execution_count": 82,
   "id": "0005fdee",
   "metadata": {},
   "outputs": [],
   "source": [
    "a=np.random.random((256,256))"
   ]
  },
  {
   "cell_type": "code",
   "execution_count": 83,
   "id": "9aafaa7d",
   "metadata": {},
   "outputs": [
    {
     "data": {
      "text/plain": [
       "array([[ 0.28254585, -0.06329333, -0.29136801, ...,  0.26028826,\n",
       "         0.10693308, -0.48594499],\n",
       "       [ 0.54260573, -0.18530086, -0.19048543, ..., -0.11876062,\n",
       "        -0.27087143, -0.39860308],\n",
       "       [-0.40252451,  0.12039307,  0.30381309, ...,  0.18203124,\n",
       "         0.17628776,  0.17674521],\n",
       "       ...,\n",
       "       [-0.88552165,  0.61350866,  0.29331241, ...,  0.28798447,\n",
       "         0.63676216,  0.49642839],\n",
       "       [ 0.09322762, -0.3050202 ,  0.21567828, ..., -0.37954949,\n",
       "        -0.61957955,  0.35421871],\n",
       "       [ 0.63110246, -0.38894989, -0.05876909, ..., -0.24810894,\n",
       "        -0.50844403, -0.29503859]])"
      ]
     },
     "execution_count": 83,
     "metadata": {},
     "output_type": "execute_result"
    }
   ],
   "source": [
    "np.linalg.inv(a)"
   ]
  },
  {
   "cell_type": "code",
   "execution_count": null,
   "id": "2a67a25e",
   "metadata": {},
   "outputs": [],
   "source": []
  }
 ],
 "metadata": {
  "kernelspec": {
   "display_name": "Python 3 (ipykernel)",
   "language": "python",
   "name": "python3"
  },
  "language_info": {
   "codemirror_mode": {
    "name": "ipython",
    "version": 3
   },
   "file_extension": ".py",
   "mimetype": "text/x-python",
   "name": "python",
   "nbconvert_exporter": "python",
   "pygments_lexer": "ipython3",
   "version": "3.9.7"
  }
 },
 "nbformat": 4,
 "nbformat_minor": 5
}
